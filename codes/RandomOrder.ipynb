{
 "cells": [
  {
   "cell_type": "code",
   "execution_count": 1,
   "id": "42e43d89-d8d2-499a-9861-89c635389c3a",
   "metadata": {},
   "outputs": [
    {
     "name": "stdout",
     "output_type": "stream",
     "text": [
      "Images have been shuffled and renamed in the folder: C:\\Users\\hp\\Desktop\\detection of the bels palsy\\mediapipe\\normal faces\n"
     ]
    }
   ],
   "source": [
    "import os\n",
    "import random\n",
    "\n",
    "# Specify the directory containing images\n",
    "folder = r\"C:\\Users\\hp\\Desktop\\detection of the bels palsy\\mediapipe\\normal faces\"\n",
    "\n",
    "# List all files in the directory\n",
    "images = [f for f in os.listdir(folder) if os.path.isfile(os.path.join(folder, f))]\n",
    "\n",
    "# Shuffle the list of images\n",
    "random.shuffle(images)\n",
    "\n",
    "# Rename the images in the folder\n",
    "for i, image in enumerate(images):\n",
    "    old_path = os.path.join(folder, image)\n",
    "    new_image_name = f\"temp_{i:04d}.jpg\"  # Use a temporary name to avoid conflicts\n",
    "    temp_path = os.path.join(folder, new_image_name)\n",
    "    os.rename(old_path, temp_path)\n",
    "\n",
    "# Rename the images to their final names\n",
    "for i, temp_image in enumerate(os.listdir(folder)):\n",
    "    if temp_image.startswith(\"temp_\"):\n",
    "        final_image_name = f\"image_{i + 1:04d}.jpg\"\n",
    "        final_path = os.path.join(folder, final_image_name)\n",
    "        temp_path = os.path.join(folder, temp_image)\n",
    "        os.rename(temp_path, final_path)\n",
    "\n",
    "print(f\"Images have been shuffled and renamed in the folder: {folder}\")\n"
   ]
  },
  {
   "cell_type": "code",
   "execution_count": null,
   "id": "2a640680-fba3-4d4b-9970-817605fcbfc7",
   "metadata": {},
   "outputs": [],
   "source": []
  }
 ],
 "metadata": {
  "kernelspec": {
   "display_name": "Python 3 (ipykernel)",
   "language": "python",
   "name": "python3"
  },
  "language_info": {
   "codemirror_mode": {
    "name": "ipython",
    "version": 3
   },
   "file_extension": ".py",
   "mimetype": "text/x-python",
   "name": "python",
   "nbconvert_exporter": "python",
   "pygments_lexer": "ipython3",
   "version": "3.10.0rc2"
  }
 },
 "nbformat": 4,
 "nbformat_minor": 5
}
