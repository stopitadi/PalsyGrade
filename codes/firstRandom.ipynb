{
 "cells": [
  {
   "cell_type": "code",
   "execution_count": 1,
   "id": "f794e9cb-4b7f-4d11-a826-377e377d15b1",
   "metadata": {},
   "outputs": [],
   "source": [
    "from img2vec_pytorch import Img2Vec\n",
    "from PIL import Image\n",
    "import os\n",
    "from sklearn.ensemble import RandomForestClassifier\n",
    "from sklearn.metrics import accuracy_score\n",
    "import pandas as pd"
   ]
  },
  {
   "cell_type": "code",
   "execution_count": 2,
   "id": "c490b88b-2375-49ad-a54b-292e8ef82c19",
   "metadata": {},
   "outputs": [],
   "source": [
    "import os\n",
    "from PIL import Image\n",
    "\n",
    "def FeatureExtractor(input_folder, img2vec):\n",
    "    data_dir = input_folder  # Assuming input_folder is the parent directory of 'train' and 'validation' folders\n",
    "    train_dir = os.path.join(data_dir, 'train')\n",
    "    \n",
    "    data = {}  # Dictionary to hold training and validation data\n",
    "    \n",
    "    for j, dir_ in enumerate([train_dir]):\n",
    "        features = []\n",
    "        labels = []\n",
    "        \n",
    "        for category in os.listdir(dir_):\n",
    "            category_path = os.path.join(dir_, category)\n",
    "            \n",
    "            if os.path.isdir(category_path):  # Check if it's a directory\n",
    "                for img_path in os.listdir(category_path):\n",
    "                    img_path_ = os.path.join(category_path, img_path)\n",
    "                    \n",
    "                    if os.path.isfile(img_path_):  # Check if it's a file\n",
    "                        # Open the image using PIL (Pillow)\n",
    "                        img = Image.open(img_path_)\n",
    "                        \n",
    "                        # Use img2vec to extract features from the image\n",
    "                        img_features = img2vec.get_vec(img)\n",
    "                        \n",
    "                        # Append features and corresponding label\n",
    "                        features.append(img_features)\n",
    "                        labels.append(category)\n",
    "        \n",
    "        # Determine whether to store in 'training_data' or 'validation_data' based on index 'j'\n",
    "        data_key_features = ['training_data'][j]\n",
    "        data_key_labels = ['training_labels'][j]\n",
    "        \n",
    "        # Store features and labels in the data dictionary\n",
    "        data[data_key_features] = features\n",
    "        data[data_key_labels] = labels\n",
    "    \n",
    "    return data\n"
   ]
  },
  {
   "cell_type": "code",
   "execution_count": 3,
   "id": "f5cc9100-266e-465a-9864-69c55835d5a8",
   "metadata": {},
   "outputs": [
    {
     "name": "stderr",
     "output_type": "stream",
     "text": [
      "C:\\Users\\hp\\AppData\\Local\\Programs\\Python\\Python310\\lib\\site-packages\\torchvision\\models\\_utils.py:208: UserWarning: The parameter 'pretrained' is deprecated since 0.13 and may be removed in the future, please use 'weights' instead.\n",
      "  warnings.warn(\n",
      "C:\\Users\\hp\\AppData\\Local\\Programs\\Python\\Python310\\lib\\site-packages\\torchvision\\models\\_utils.py:223: UserWarning: Arguments other than a weight enum or `None` for 'weights' are deprecated since 0.13 and may be removed in the future. The current behavior is equivalent to passing `weights=ResNet18_Weights.IMAGENET1K_V1`. You can also use `weights=ResNet18_Weights.DEFAULT` to get the most up-to-date weights.\n",
      "  warnings.warn(msg)\n"
     ]
    }
   ],
   "source": [
    "img2vec = Img2Vec()\n",
    "input_folder = r\"C:\\Users\\hp\\Desktop\\detection of the bels palsy\\first data\\TrainData\"\n",
    "\n",
    "data = FeatureExtractor(input_folder, img2vec)"
   ]
  },
  {
   "cell_type": "code",
   "execution_count": 4,
   "id": "212b262f-438d-4f37-bbd1-c574615ef7cb",
   "metadata": {},
   "outputs": [
    {
     "data": {
      "text/html": [
       "<style>#sk-container-id-1 {color: black;}#sk-container-id-1 pre{padding: 0;}#sk-container-id-1 div.sk-toggleable {background-color: white;}#sk-container-id-1 label.sk-toggleable__label {cursor: pointer;display: block;width: 100%;margin-bottom: 0;padding: 0.3em;box-sizing: border-box;text-align: center;}#sk-container-id-1 label.sk-toggleable__label-arrow:before {content: \"▸\";float: left;margin-right: 0.25em;color: #696969;}#sk-container-id-1 label.sk-toggleable__label-arrow:hover:before {color: black;}#sk-container-id-1 div.sk-estimator:hover label.sk-toggleable__label-arrow:before {color: black;}#sk-container-id-1 div.sk-toggleable__content {max-height: 0;max-width: 0;overflow: hidden;text-align: left;background-color: #f0f8ff;}#sk-container-id-1 div.sk-toggleable__content pre {margin: 0.2em;color: black;border-radius: 0.25em;background-color: #f0f8ff;}#sk-container-id-1 input.sk-toggleable__control:checked~div.sk-toggleable__content {max-height: 200px;max-width: 100%;overflow: auto;}#sk-container-id-1 input.sk-toggleable__control:checked~label.sk-toggleable__label-arrow:before {content: \"▾\";}#sk-container-id-1 div.sk-estimator input.sk-toggleable__control:checked~label.sk-toggleable__label {background-color: #d4ebff;}#sk-container-id-1 div.sk-label input.sk-toggleable__control:checked~label.sk-toggleable__label {background-color: #d4ebff;}#sk-container-id-1 input.sk-hidden--visually {border: 0;clip: rect(1px 1px 1px 1px);clip: rect(1px, 1px, 1px, 1px);height: 1px;margin: -1px;overflow: hidden;padding: 0;position: absolute;width: 1px;}#sk-container-id-1 div.sk-estimator {font-family: monospace;background-color: #f0f8ff;border: 1px dotted black;border-radius: 0.25em;box-sizing: border-box;margin-bottom: 0.5em;}#sk-container-id-1 div.sk-estimator:hover {background-color: #d4ebff;}#sk-container-id-1 div.sk-parallel-item::after {content: \"\";width: 100%;border-bottom: 1px solid gray;flex-grow: 1;}#sk-container-id-1 div.sk-label:hover label.sk-toggleable__label {background-color: #d4ebff;}#sk-container-id-1 div.sk-serial::before {content: \"\";position: absolute;border-left: 1px solid gray;box-sizing: border-box;top: 0;bottom: 0;left: 50%;z-index: 0;}#sk-container-id-1 div.sk-serial {display: flex;flex-direction: column;align-items: center;background-color: white;padding-right: 0.2em;padding-left: 0.2em;position: relative;}#sk-container-id-1 div.sk-item {position: relative;z-index: 1;}#sk-container-id-1 div.sk-parallel {display: flex;align-items: stretch;justify-content: center;background-color: white;position: relative;}#sk-container-id-1 div.sk-item::before, #sk-container-id-1 div.sk-parallel-item::before {content: \"\";position: absolute;border-left: 1px solid gray;box-sizing: border-box;top: 0;bottom: 0;left: 50%;z-index: -1;}#sk-container-id-1 div.sk-parallel-item {display: flex;flex-direction: column;z-index: 1;position: relative;background-color: white;}#sk-container-id-1 div.sk-parallel-item:first-child::after {align-self: flex-end;width: 50%;}#sk-container-id-1 div.sk-parallel-item:last-child::after {align-self: flex-start;width: 50%;}#sk-container-id-1 div.sk-parallel-item:only-child::after {width: 0;}#sk-container-id-1 div.sk-dashed-wrapped {border: 1px dashed gray;margin: 0 0.4em 0.5em 0.4em;box-sizing: border-box;padding-bottom: 0.4em;background-color: white;}#sk-container-id-1 div.sk-label label {font-family: monospace;font-weight: bold;display: inline-block;line-height: 1.2em;}#sk-container-id-1 div.sk-label-container {text-align: center;}#sk-container-id-1 div.sk-container {/* jupyter's `normalize.less` sets `[hidden] { display: none; }` but bootstrap.min.css set `[hidden] { display: none !important; }` so we also need the `!important` here to be able to override the default hidden behavior on the sphinx rendered scikit-learn.org. See: https://github.com/scikit-learn/scikit-learn/issues/21755 */display: inline-block !important;position: relative;}#sk-container-id-1 div.sk-text-repr-fallback {display: none;}</style><div id=\"sk-container-id-1\" class=\"sk-top-container\"><div class=\"sk-text-repr-fallback\"><pre>RandomForestClassifier()</pre><b>In a Jupyter environment, please rerun this cell to show the HTML representation or trust the notebook. <br />On GitHub, the HTML representation is unable to render, please try loading this page with nbviewer.org.</b></div><div class=\"sk-container\" hidden><div class=\"sk-item\"><div class=\"sk-estimator sk-toggleable\"><input class=\"sk-toggleable__control sk-hidden--visually\" id=\"sk-estimator-id-1\" type=\"checkbox\" checked><label for=\"sk-estimator-id-1\" class=\"sk-toggleable__label sk-toggleable__label-arrow\">RandomForestClassifier</label><div class=\"sk-toggleable__content\"><pre>RandomForestClassifier()</pre></div></div></div></div></div>"
      ],
      "text/plain": [
       "RandomForestClassifier()"
      ]
     },
     "execution_count": 4,
     "metadata": {},
     "output_type": "execute_result"
    }
   ],
   "source": [
    "# model \n",
    "model = RandomForestClassifier()\n",
    "model.fit(data['training_data'] , data['training_labels'])"
   ]
  },
  {
   "cell_type": "code",
   "execution_count": 5,
   "id": "f3387aae-8403-4752-b02c-2d86307c94e7",
   "metadata": {},
   "outputs": [],
   "source": [
    "def FeatureExtractor(input_folder, img2vec):\n",
    "    data_dir = input_folder  # Assuming input_folder is the parent directory of 'train' and 'validation' folders\n",
    "    test_dir = os.path.join(data_dir, 'test')\n",
    "    \n",
    "    \n",
    "    data = {}  # Dictionary to hold training and validation data\n",
    "    \n",
    "    for j, dir_ in enumerate([test_dir]):\n",
    "        features = []\n",
    "        labels = []\n",
    "        \n",
    "        for category in os.listdir(dir_):\n",
    "            category_path = os.path.join(dir_, category)\n",
    "            \n",
    "            for img_path in os.listdir(category_path):\n",
    "                img_path_ = os.path.join(category_path, img_path)\n",
    "                \n",
    "                # Open the image using PIL (Pillow)\n",
    "                img = Image.open(img_path_)\n",
    "                \n",
    "                # Use img2vec to extract features from the image\n",
    "                img_features = img2vec.get_vec(img)\n",
    "                \n",
    "                # Append features and corresponding label\n",
    "                features.append(img_features)\n",
    "                labels.append(category)\n",
    "        \n",
    "        # Determine whether to store in 'training_data' or 'validation_data' based on index 'j'\n",
    "        data_key_features = ['test_data'][j]\n",
    "        data_key_labels = ['test_labels'][j]\n",
    "        \n",
    "        # Store features and labels in the data dictionary\n",
    "        data[data_key_features] = features\n",
    "        data[data_key_labels] = labels\n",
    "    \n",
    "    return data"
   ]
  },
  {
   "cell_type": "code",
   "execution_count": 9,
   "id": "3673a1de-4fa0-49f0-92c5-902d2d265939",
   "metadata": {},
   "outputs": [],
   "source": [
    "input_folder = r\"C:\\Users\\hp\\Desktop\\detection of the bels palsy\\first data\\TestData\"\n",
    "\n",
    "dataTest = FeatureExtractor(input_folder, img2vec)"
   ]
  },
  {
   "cell_type": "code",
   "execution_count": 10,
   "id": "1e979351-1480-4183-822e-561179cf29ae",
   "metadata": {},
   "outputs": [],
   "source": [
    "y_pred = model.predict(dataTest['test_data'])\n",
    "score = accuracy_score(y_pred, dataTest['test_labels'])\n"
   ]
  },
  {
   "cell_type": "code",
   "execution_count": 11,
   "id": "e631b8ca-e22c-460b-824d-bdaba1dff2cd",
   "metadata": {},
   "outputs": [
    {
     "data": {
      "text/plain": [
       "0.7903225806451613"
      ]
     },
     "execution_count": 11,
     "metadata": {},
     "output_type": "execute_result"
    }
   ],
   "source": [
    "score"
   ]
  },
  {
   "cell_type": "code",
   "execution_count": null,
   "id": "c8a6c625-96ec-4a82-b371-a05b8fea8f17",
   "metadata": {},
   "outputs": [],
   "source": []
  }
 ],
 "metadata": {
  "kernelspec": {
   "display_name": "Python 3 (ipykernel)",
   "language": "python",
   "name": "python3"
  },
  "language_info": {
   "codemirror_mode": {
    "name": "ipython",
    "version": 3
   },
   "file_extension": ".py",
   "mimetype": "text/x-python",
   "name": "python",
   "nbconvert_exporter": "python",
   "pygments_lexer": "ipython3",
   "version": "3.10.0rc2"
  }
 },
 "nbformat": 4,
 "nbformat_minor": 5
}
