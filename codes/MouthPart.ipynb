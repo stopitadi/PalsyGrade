{
 "cells": [
  {
   "cell_type": "code",
   "execution_count": null,
   "id": "74bbc318-ecf1-446f-b45c-2b1b5062b5d1",
   "metadata": {},
   "outputs": [],
   "source": [
    "import cv2\n",
    "import matplotlib.pyplot as plt\n",
    "import mediapipe\n",
    "import numpy as np \n",
    "import pandas as pd"
   ]
  },
  {
   "cell_type": "code",
   "execution_count": null,
   "id": "27b4b96f-2aa6-46c9-8d97-363d11082c00",
   "metadata": {},
   "outputs": [],
   "source": [
    "import cv2\n",
    "import mediapipe as mp\n",
    "import pandas as pd\n",
    "import numpy as np\n",
    "import matplotlib.pyplot as plt\n",
    "\n",
    "def MouthExt(s):\n",
    "    img = cv2.imread(s)\n",
    "    mp_face_mesh = mp.solutions.face_mesh\n",
    "    face_mesh = mp_face_mesh.FaceMesh(static_image_mode=True)\n",
    "    results = face_mesh.process(cv2.cvtColor(img, cv2.COLOR_BGR2RGB))\n",
    "    \n",
    "    # Check if any face landmarks are detected\n",
    "    if results.multi_face_landmarks:\n",
    "        landmarks = results.multi_face_landmarks[0]\n",
    "        \n",
    "        data = {\n",
    "            'p1': [207, 205, 36, 203, 98, 97, 2, 326, 327, 423, 266, 425, 427, 434, 430, 431, 418, 421, 200, 201, 194, 204, 202, 214],\n",
    "            'p2': [205, 36, 203, 98, 97, 2, 326, 327, 423, 266, 425, 427, 434, 430, 431, 418, 421, 200, 201, 194, 204, 202, 214, 207]\n",
    "        }\n",
    "        df = pd.DataFrame(data)\n",
    "        routes = []  # Initialize routes list\n",
    "        \n",
    "        # Extract routes from DataFrame\n",
    "        p1 = df.iloc[0][\"p1\"]\n",
    "        p2 = df.iloc[0][\"p2\"]\n",
    "        for i in range(0, df.shape[0]):\n",
    "            obj = df[df[\"p1\"] == p2]\n",
    "            p1 = obj[\"p1\"].values[0]\n",
    "            p2 = obj[\"p2\"].values[0]\n",
    "            route_idx = [p1, p2]\n",
    "            routes.append(route_idx)\n",
    "\n",
    "        # Iterate over routes and draw lines\n",
    "        for source_idx, target_idx in routes:\n",
    "            source = landmarks.landmark[source_idx]\n",
    "            target = landmarks.landmark[target_idx]\n",
    "             \n",
    "            relative_source = (int(img.shape[1] * source.x), int(img.shape[0] * source.y))\n",
    "            relative_target = (int(img.shape[1] * target.x), int(img.shape[0] * target.y))\n",
    "            \n",
    "            # Draw lines (if needed)\n",
    "            # cv2.line(img, relative_source, relative_target, (255, 255, 255), thickness=2)\n",
    "             \n",
    "            routes.append(relative_source)\n",
    "            routes.append(relative_target)\n",
    "        \n",
    "        # Create mask based on routes\n",
    "        mask = np.zeros((img.shape[0], img.shape[1]), dtype=bool)\n",
    "        mask = cv2.fillConvex\n",
    "        fig = plt.figure(figsize = (15, 15))\n",
    "        plt.axis('off')\n",
    "        plt.imshow(out[:, :, ::-1])\n",
    "\n",
    "\n"
   ]
  },
  {
   "cell_type": "code",
   "execution_count": null,
   "id": "5b681d89-5be2-4491-bc1c-d5a59280c7fd",
   "metadata": {},
   "outputs": [],
   "source": [
    "s = r\"C:\\Users\\hp\\Desktop\\detection of the bels palsy\\mediapipe\\pic1.jpg\"\n",
    "MouthExt(s)"
   ]
  },
  {
   "cell_type": "code",
   "execution_count": null,
   "id": "2d01a356-8268-442c-b36a-768285693d97",
   "metadata": {},
   "outputs": [],
   "source": []
  }
 ],
 "metadata": {
  "kernelspec": {
   "display_name": "Python 3 (ipykernel)",
   "language": "python",
   "name": "python3"
  },
  "language_info": {
   "codemirror_mode": {
    "name": "ipython",
    "version": 3
   },
   "file_extension": ".py",
   "mimetype": "text/x-python",
   "name": "python",
   "nbconvert_exporter": "python",
   "pygments_lexer": "ipython3",
   "version": "3.10.0rc2"
  }
 },
 "nbformat": 4,
 "nbformat_minor": 5
}
