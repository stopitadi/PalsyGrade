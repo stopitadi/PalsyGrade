{
 "cells": [
  {
   "cell_type": "code",
   "execution_count": 5,
   "id": "8c19645a-6c38-4e91-b3fc-f6a129ba8d18",
   "metadata": {},
   "outputs": [
    {
     "name": "stdout",
     "output_type": "stream",
     "text": [
      "Saved all images' flattened arrays to C:\\Users\\hp\\Desktop\\detection of the bels palsy\\mediapipe\\NormalCr_non\\normal.csv\n"
     ]
    }
   ],
   "source": [
    "from PIL import Image\n",
    "import numpy as np\n",
    "import os\n",
    "\n",
    "def image_to_1d_array(image_path):\n",
    "    # Open the image file\n",
    "    image = Image.open(image_path)\n",
    "    \n",
    "    # Convert image to numpy array\n",
    "    image_array = np.array(image)\n",
    "    \n",
    "    # Flatten the array (3 channels for RGB)\n",
    "    flattened_array = image_array.flatten()\n",
    "    \n",
    "    return flattened_array\n",
    "\n",
    "def save_flattened_arrays_to_csv(input_folder, output_file):\n",
    "    # List all files in the input folder\n",
    "    files = os.listdir(input_folder)\n",
    "    \n",
    "    # Initialize an empty list to store flattened image arrays\n",
    "    flattened_arrays = []\n",
    "    \n",
    "    for file in files:\n",
    "        # Check if the file is an image (you can add more image formats as needed)\n",
    "        if file.endswith('.jpg') or file.endswith('.jpeg') or file.endswith('.png'):\n",
    "            # Construct the input path\n",
    "            input_path = os.path.join(input_folder, file)\n",
    "            \n",
    "            # Get flattened array for the image\n",
    "            flattened_array = image_to_1d_array(input_path)\n",
    "            \n",
    "            # Append to the list\n",
    "            flattened_arrays.append(flattened_array)\n",
    "    \n",
    "    # Convert list of arrays to a single 2D numpy array\n",
    "    combined_array = np.stack(flattened_arrays)\n",
    "    \n",
    "    # Save the combined array to CSV\n",
    "    np.savetxt(output_file, combined_array, delimiter=',')\n",
    "    \n",
    "    print(f\"Saved all images' flattened arrays to {output_file}\")\n",
    "\n",
    "# Example usage:\n",
    "input_folder = r\"C:\\Users\\hp\\Desktop\\detection of the bels palsy\\mediapipe\\NormalCr_non\"  # Replace with your input folder path\n",
    "output_file = r\"C:\\Users\\hp\\Desktop\\detection of the bels palsy\\mediapipe\\NormalCr_non\\normal.csv\"  # Replace with your output CSV file path\n",
    "\n",
    "# Save flattened arrays of all images in the input folder to a CSV file\n",
    "save_flattened_arrays_to_csv(input_folder, output_file)\n"
   ]
  },
  {
   "cell_type": "code",
   "execution_count": null,
   "id": "7af9a29e-591b-4b58-9811-7ed4a38715f8",
   "metadata": {},
   "outputs": [],
   "source": []
  }
 ],
 "metadata": {
  "kernelspec": {
   "display_name": "Python 3 (ipykernel)",
   "language": "python",
   "name": "python3"
  },
  "language_info": {
   "codemirror_mode": {
    "name": "ipython",
    "version": 3
   },
   "file_extension": ".py",
   "mimetype": "text/x-python",
   "name": "python",
   "nbconvert_exporter": "python",
   "pygments_lexer": "ipython3",
   "version": "3.10.0rc2"
  }
 },
 "nbformat": 4,
 "nbformat_minor": 5
}
